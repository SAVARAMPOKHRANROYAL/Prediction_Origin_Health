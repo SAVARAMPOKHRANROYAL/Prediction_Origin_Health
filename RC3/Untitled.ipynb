{
 "cells": [
  {
   "cell_type": "code",
   "execution_count": null,
   "id": "a80d4c66",
   "metadata": {
    "scrolled": false
   },
   "outputs": [],
   "source": [
    "import fitz  # PyMuPDF\n",
    "\n",
    "pdfs = ['PDFs/patient_10785.pdf','PDFs/patient_14392.pdf','PDFs/patient_15973.pdf','PDFs/patient_16839.pdf','PDFs/patient_18453.pdf','PDFs/patient_19362.pdf',\n",
    "        'PDFs/patient_21670.pdf','PDFs/patient_23581.pdf','PDFs/patient_25106.pdf','PDFs/patient_25879.pdf','PDFs/patient_26587.pdf','PDFs/patient_30218.pdf',\n",
    "        'PDFs/patient_30475.pdf','PDFs/patient_32645.pdf','PDFs/patient_34210.pdf','PDFs/patient_38957.pdf','PDFs/patient_40375.pdf','PDFs/patient_41973.pdf',\n",
    "        'PDFs/patient_43218.pdf','PDFs/patient_46098.pdf','PDFs/patient_48729.pdf','PDFs/patient_50312.pdf','PDFs/patient_51236.pdf','PDFs/patient_54689.pdf',\n",
    "        'PDFs/patient_57028.pdf','PDFs/patient_58136.pdf','PDFs/patient_58960.pdf','PDFs/patient_59680.pdf','PDFs/patient_63218.pdf','PDFs/patient_63490.pdf',\n",
    "        'PDFs/patient_67492.pdf','PDFs/patient_67981.pdf','PDFs/patient_68924.pdf','PDFs/patient_69513.pdf','PDFs/patient_71025.pdf','PDFs/patient_72854.pdf',\n",
    "        'PDFs/patient_74628.pdf','PDFs/patient_76084.pdf','PDFs/patient_76845.pdf','PDFs/patient_78103.pdf','PDFs/patient_81726.pdf','PDFs/patient_82041.pdf',\n",
    "        'PDFs/patient_84709.pdf','PDFs/patient_87346.pdf','PDFs/patient_87514.pdf','PDFs/patient_90473.pdf','PDFs/patient_92650.pdf','PDFs/patient_93501.pdf',\n",
    "        'PDFs/patient_94168.pdf','PDFs/patient_95124.pdf']\n",
    "\n",
    "cases = []\n",
    "abnormal_cases = 0\n",
    "\n",
    "def extract_text_from_pdf(pdf_path, page_number):\n",
    "    pdf_document = fitz.open(pdf_path)\n",
    "    page = pdf_document[page_number]\n",
    "    text = page.get_text()\n",
    "    pdf_document.close()\n",
    "    return text\n",
    "\n",
    "\n",
    "for i in range(50):\n",
    "    pdf_path = pdfs[i]\n",
    "    Patient_id=pdf_path.split('/')\n",
    "    Patient_id=Patient_id[1].split('.')\n",
    "    page_number = 0 \n",
    "    extracted_text = extract_text_from_pdf(pdf_path, page_number)\n",
    "    extracted_text = extracted_text[233:]\n",
    "    l=extracted_text.splitlines()\n",
    "    for i in l:\n",
    "        cases.append(i)\n",
    "print(set(cases))"
   ]
  },
  {
   "cell_type": "code",
   "execution_count": null,
   "id": "576819b0",
   "metadata": {},
   "outputs": [],
   "source": [
    "{ 'There is no structural defects and normal flow patternsIfetal abnormalities detected in this scan', 'Spina bifida found ',\n",
    " 'Normal ', 'There is no structural defects and normal flow patternsIno fetal abnormalities detected in this scan', \n",
    " 'Normal skull apperance', 'Normal 4 chamber view'}"
   ]
  },
  {
   "cell_type": "code",
   "execution_count": null,
   "id": "1195cc58",
   "metadata": {},
   "outputs": [],
   "source": [
    "'ventriculomegaly', 'No Spina bifida', 'Hands and feet appear normal','Choroid plexus cyst seen','Normal '\n",
    "'There is no structural defects and normal flow patternsIno fetal abnormalities detected in this scan',\n",
    "'Normal skull apperance', 'Normal 4 chamber view'"
   ]
  }
 ],
 "metadata": {
  "kernelspec": {
   "display_name": "Python 3 (ipykernel)",
   "language": "python",
   "name": "python3"
  },
  "language_info": {
   "codemirror_mode": {
    "name": "ipython",
    "version": 3
   },
   "file_extension": ".py",
   "mimetype": "text/x-python",
   "name": "python",
   "nbconvert_exporter": "python",
   "pygments_lexer": "ipython3",
   "version": "3.10.5"
  }
 },
 "nbformat": 4,
 "nbformat_minor": 5
}
