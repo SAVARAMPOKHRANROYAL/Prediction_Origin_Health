{
 "cells": [
  {
   "cell_type": "code",
   "execution_count": 21,
   "id": "9ee9e9f2",
   "metadata": {},
   "outputs": [
    {
     "name": "stdout",
     "output_type": "stream",
     "text": [
      "The patient is normal :  patient_10785\n",
      "The patient is normal :  patient_15973\n",
      "The patient is normal :  patient_16839\n",
      "The patient is normal :  patient_19362\n",
      "The patient is normal :  patient_23581\n",
      "The patient is normal :  patient_25879\n",
      "The patient is normal :  patient_30218\n",
      "The patient is normal :  patient_30475\n",
      "The patient is normal :  patient_32645\n",
      "The patient is normal :  patient_34210\n",
      "The patient is normal :  patient_38957\n",
      "The patient is normal :  patient_40375\n",
      "The patient is normal :  patient_41973\n",
      "The patient is normal :  patient_46098\n",
      "The patient is normal :  patient_51236\n",
      "The patient is normal :  patient_54689\n",
      "The patient is normal :  patient_57028\n",
      "The patient is normal :  patient_58136\n",
      "The patient is normal :  patient_58960\n",
      "The patient is normal :  patient_59680\n",
      "The patient is normal :  patient_63490\n",
      "The patient is normal :  patient_67492\n",
      "The patient is normal :  patient_68924\n",
      "The patient is normal :  patient_69513\n",
      "The patient is normal :  patient_72854\n",
      "The patient is normal :  patient_74628\n",
      "The patient is normal :  patient_78103\n",
      "The patient is normal :  patient_81726\n",
      "The patient is normal :  patient_82041\n",
      "The patient is normal :  patient_84709\n",
      "The patient is normal :  patient_87346\n",
      "The patient is normal :  patient_87514\n",
      "The patient is normal :  patient_92650\n",
      "The patient is normal :  patient_93501\n",
      "The patient is normal :  patient_95124\n",
      "abnormal count 35\n"
     ]
    }
   ],
   "source": [
    "import fitz  # PyMuPDF\n",
    "\n",
    "pdfs = ['PDFs/patient_10785.pdf','PDFs/patient_14392.pdf','PDFs/patient_15973.pdf','PDFs/patient_16839.pdf','PDFs/patient_18453.pdf','PDFs/patient_19362.pdf',\n",
    "        'PDFs/patient_21670.pdf','PDFs/patient_23581.pdf','PDFs/patient_25106.pdf','PDFs/patient_25879.pdf','PDFs/patient_26587.pdf','PDFs/patient_30218.pdf',\n",
    "        'PDFs/patient_30475.pdf','PDFs/patient_32645.pdf','PDFs/patient_34210.pdf','PDFs/patient_38957.pdf','PDFs/patient_40375.pdf','PDFs/patient_41973.pdf',\n",
    "        'PDFs/patient_43218.pdf','PDFs/patient_46098.pdf','PDFs/patient_48729.pdf','PDFs/patient_50312.pdf','PDFs/patient_51236.pdf','PDFs/patient_54689.pdf',\n",
    "        'PDFs/patient_57028.pdf','PDFs/patient_58136.pdf','PDFs/patient_58960.pdf','PDFs/patient_59680.pdf','PDFs/patient_63218.pdf','PDFs/patient_63490.pdf',\n",
    "        'PDFs/patient_67492.pdf','PDFs/patient_67981.pdf','PDFs/patient_68924.pdf','PDFs/patient_69513.pdf','PDFs/patient_71025.pdf','PDFs/patient_72854.pdf',\n",
    "        'PDFs/patient_74628.pdf','PDFs/patient_76084.pdf','PDFs/patient_76845.pdf','PDFs/patient_78103.pdf','PDFs/patient_81726.pdf','PDFs/patient_82041.pdf',\n",
    "        'PDFs/patient_84709.pdf','PDFs/patient_87346.pdf','PDFs/patient_87514.pdf','PDFs/patient_90473.pdf','PDFs/patient_92650.pdf','PDFs/patient_93501.pdf',\n",
    "        'PDFs/patient_94168.pdf','PDFs/patient_95124.pdf']\n",
    "\n",
    "abnormal_cases = 0\n",
    "\n",
    "def extract_text_from_pdf(pdf_path, page_number):\n",
    "    pdf_document = fitz.open(pdf_path)\n",
    "    page = pdf_document[page_number]\n",
    "    text = page.get_text()\n",
    "    pdf_document.close()\n",
    "    return text\n",
    "\n",
    "\n",
    "for i in range(50):\n",
    "    pdf_path = pdfs[i]\n",
    "    Patient_id=pdf_path.split('/')\n",
    "    Patient_id=Patient_id[1].split('.')\n",
    "    page_number = 0 \n",
    "\n",
    "    extracted_text = extract_text_from_pdf(pdf_path, page_number)\n",
    "    \n",
    "    abnormal_keywords = 'There is no structural defects and normal flow patternsIno fetal abnormalities detected in this scan'\n",
    "    if abnormal_keywords in extracted_text:\n",
    "        abnormal_cases+= 1 \n",
    "        print(\"The patient is normal : \",Patient_id[0])\n",
    "print(\"abnormal count\",abnormal_cases)\n"
   ]
  },
  {
   "cell_type": "code",
   "execution_count": null,
   "id": "1cd1dca8",
   "metadata": {},
   "outputs": [],
   "source": []
  }
 ],
 "metadata": {
  "kernelspec": {
   "display_name": "Python 3 (ipykernel)",
   "language": "python",
   "name": "python3"
  },
  "language_info": {
   "codemirror_mode": {
    "name": "ipython",
    "version": 3
   },
   "file_extension": ".py",
   "mimetype": "text/x-python",
   "name": "python",
   "nbconvert_exporter": "python",
   "pygments_lexer": "ipython3",
   "version": "3.10.5"
  }
 },
 "nbformat": 4,
 "nbformat_minor": 5
}
